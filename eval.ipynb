{
 "cells": [
  {
   "cell_type": "code",
   "execution_count": 1,
   "metadata": {},
   "outputs": [],
   "source": [
    "import tensorflow as tf\n",
    "from tensorflow.keras import layers,models,optimizers,losses\n",
    "from tensorflow.keras.applications import EfficientNetB0\n",
    "from tensorflow.keras.preprocessing import image_dataset_from_directory,image\n",
    "import numpy as np\n",
    "from Eval_metrics_gen_excel import save_predictions_to_excel,generate_metrics_report\n",
    "import pandas as pd\n",
    "from tensorflow.keras.preprocessing.image import load_img, img_to_array\n",
    "# from tensorflow.keras.applications.vgg16 import preprocess_input\n",
    "import os\n",
    "import platform"
   ]
  },
  {
   "cell_type": "code",
   "execution_count": 2,
   "metadata": {},
   "outputs": [
    {
     "name": "stdout",
     "output_type": "stream",
     "text": [
      "Running on Local Host. Training directory set to: Dataset/training\n"
     ]
    }
   ],
   "source": [
    "try:\n",
    "    import google.colab\n",
    "    on_colab = True\n",
    "except ImportError:\n",
    "    on_colab = False\n",
    "\n",
    "if on_colab:\n",
    "    base_dir = '/content/drive/MyDrive/Colab Notebooks/'\n",
    "    train_dir=  base_dir+'Dataset/training'\n",
    "    val_dir=    base_dir+'Dataset/validation'\n",
    "    save_dir=   base_dir+'Resources/'\n",
    "    model_path= save_dir+'efc_model.keras'\n",
    "    print(\"Running on Google Colab. Training directory set to:\", train_dir)\n",
    "    # Import Colab-specific libraries if needed\n",
    "    from google.colab import drive\n",
    "    drive.mount('/content/drive', force_remount=True)\n",
    "\n",
    "else:\n",
    "    base_dir = ''\n",
    "    train_dir=  base_dir+'Dataset/training'\n",
    "    val_dir=    base_dir+'Dataset/validation'\n",
    "    save_dir=   base_dir+'Dataset/'\n",
    "    model_path= save_dir+'efc_model.keras'\n",
    "    print(\"Running on Local Host. Training directory set to:\", train_dir)"
   ]
  },
  {
   "cell_type": "code",
   "execution_count": 4,
   "metadata": {},
   "outputs": [
    {
     "data": {
      "text/html": [
       "<pre style=\"white-space:pre;overflow-x:auto;line-height:normal;font-family:Menlo,'DejaVu Sans Mono',consolas,'Courier New',monospace\"><span style=\"font-weight: bold\">Model: \"sequential\"</span>\n",
       "</pre>\n"
      ],
      "text/plain": [
       "\u001b[1mModel: \"sequential\"\u001b[0m\n"
      ]
     },
     "metadata": {},
     "output_type": "display_data"
    },
    {
     "data": {
      "text/html": [
       "<pre style=\"white-space:pre;overflow-x:auto;line-height:normal;font-family:Menlo,'DejaVu Sans Mono',consolas,'Courier New',monospace\">┏━━━━━━━━━━━━━━━━━━━━━━━━━━━━━━━━━┳━━━━━━━━━━━━━━━━━━━━━━━━┳━━━━━━━━━━━━━━━┓\n",
       "┃<span style=\"font-weight: bold\"> Layer (type)                    </span>┃<span style=\"font-weight: bold\"> Output Shape           </span>┃<span style=\"font-weight: bold\">       Param # </span>┃\n",
       "┡━━━━━━━━━━━━━━━━━━━━━━━━━━━━━━━━━╇━━━━━━━━━━━━━━━━━━━━━━━━╇━━━━━━━━━━━━━━━┩\n",
       "│ efficientnetb0 (<span style=\"color: #0087ff; text-decoration-color: #0087ff\">Functional</span>)     │ (<span style=\"color: #00d7ff; text-decoration-color: #00d7ff\">None</span>, <span style=\"color: #00af00; text-decoration-color: #00af00\">7</span>, <span style=\"color: #00af00; text-decoration-color: #00af00\">7</span>, <span style=\"color: #00af00; text-decoration-color: #00af00\">1280</span>)     │     <span style=\"color: #00af00; text-decoration-color: #00af00\">4,049,571</span> │\n",
       "├─────────────────────────────────┼────────────────────────┼───────────────┤\n",
       "│ reshape (<span style=\"color: #0087ff; text-decoration-color: #0087ff\">Reshape</span>)               │ (<span style=\"color: #00d7ff; text-decoration-color: #00d7ff\">None</span>, <span style=\"color: #00af00; text-decoration-color: #00af00\">49</span>, <span style=\"color: #00af00; text-decoration-color: #00af00\">1280</span>)       │             <span style=\"color: #00af00; text-decoration-color: #00af00\">0</span> │\n",
       "├─────────────────────────────────┼────────────────────────┼───────────────┤\n",
       "│ lstm (<span style=\"color: #0087ff; text-decoration-color: #0087ff\">LSTM</span>)                     │ (<span style=\"color: #00d7ff; text-decoration-color: #00d7ff\">None</span>, <span style=\"color: #00af00; text-decoration-color: #00af00\">49</span>, <span style=\"color: #00af00; text-decoration-color: #00af00\">64</span>)         │       <span style=\"color: #00af00; text-decoration-color: #00af00\">344,320</span> │\n",
       "├─────────────────────────────────┼────────────────────────┼───────────────┤\n",
       "│ lstm_1 (<span style=\"color: #0087ff; text-decoration-color: #0087ff\">LSTM</span>)                   │ (<span style=\"color: #00d7ff; text-decoration-color: #00d7ff\">None</span>, <span style=\"color: #00af00; text-decoration-color: #00af00\">32</span>)             │        <span style=\"color: #00af00; text-decoration-color: #00af00\">12,416</span> │\n",
       "├─────────────────────────────────┼────────────────────────┼───────────────┤\n",
       "│ dense (<span style=\"color: #0087ff; text-decoration-color: #0087ff\">Dense</span>)                   │ (<span style=\"color: #00d7ff; text-decoration-color: #00d7ff\">None</span>, <span style=\"color: #00af00; text-decoration-color: #00af00\">64</span>)             │         <span style=\"color: #00af00; text-decoration-color: #00af00\">2,112</span> │\n",
       "├─────────────────────────────────┼────────────────────────┼───────────────┤\n",
       "│ dropout (<span style=\"color: #0087ff; text-decoration-color: #0087ff\">Dropout</span>)               │ (<span style=\"color: #00d7ff; text-decoration-color: #00d7ff\">None</span>, <span style=\"color: #00af00; text-decoration-color: #00af00\">64</span>)             │             <span style=\"color: #00af00; text-decoration-color: #00af00\">0</span> │\n",
       "├─────────────────────────────────┼────────────────────────┼───────────────┤\n",
       "│ dense_1 (<span style=\"color: #0087ff; text-decoration-color: #0087ff\">Dense</span>)                 │ (<span style=\"color: #00d7ff; text-decoration-color: #00d7ff\">None</span>, <span style=\"color: #00af00; text-decoration-color: #00af00\">10</span>)             │           <span style=\"color: #00af00; text-decoration-color: #00af00\">650</span> │\n",
       "└─────────────────────────────────┴────────────────────────┴───────────────┘\n",
       "</pre>\n"
      ],
      "text/plain": [
       "┏━━━━━━━━━━━━━━━━━━━━━━━━━━━━━━━━━┳━━━━━━━━━━━━━━━━━━━━━━━━┳━━━━━━━━━━━━━━━┓\n",
       "┃\u001b[1m \u001b[0m\u001b[1mLayer (type)                   \u001b[0m\u001b[1m \u001b[0m┃\u001b[1m \u001b[0m\u001b[1mOutput Shape          \u001b[0m\u001b[1m \u001b[0m┃\u001b[1m \u001b[0m\u001b[1m      Param #\u001b[0m\u001b[1m \u001b[0m┃\n",
       "┡━━━━━━━━━━━━━━━━━━━━━━━━━━━━━━━━━╇━━━━━━━━━━━━━━━━━━━━━━━━╇━━━━━━━━━━━━━━━┩\n",
       "│ efficientnetb0 (\u001b[38;5;33mFunctional\u001b[0m)     │ (\u001b[38;5;45mNone\u001b[0m, \u001b[38;5;34m7\u001b[0m, \u001b[38;5;34m7\u001b[0m, \u001b[38;5;34m1280\u001b[0m)     │     \u001b[38;5;34m4,049,571\u001b[0m │\n",
       "├─────────────────────────────────┼────────────────────────┼───────────────┤\n",
       "│ reshape (\u001b[38;5;33mReshape\u001b[0m)               │ (\u001b[38;5;45mNone\u001b[0m, \u001b[38;5;34m49\u001b[0m, \u001b[38;5;34m1280\u001b[0m)       │             \u001b[38;5;34m0\u001b[0m │\n",
       "├─────────────────────────────────┼────────────────────────┼───────────────┤\n",
       "│ lstm (\u001b[38;5;33mLSTM\u001b[0m)                     │ (\u001b[38;5;45mNone\u001b[0m, \u001b[38;5;34m49\u001b[0m, \u001b[38;5;34m64\u001b[0m)         │       \u001b[38;5;34m344,320\u001b[0m │\n",
       "├─────────────────────────────────┼────────────────────────┼───────────────┤\n",
       "│ lstm_1 (\u001b[38;5;33mLSTM\u001b[0m)                   │ (\u001b[38;5;45mNone\u001b[0m, \u001b[38;5;34m32\u001b[0m)             │        \u001b[38;5;34m12,416\u001b[0m │\n",
       "├─────────────────────────────────┼────────────────────────┼───────────────┤\n",
       "│ dense (\u001b[38;5;33mDense\u001b[0m)                   │ (\u001b[38;5;45mNone\u001b[0m, \u001b[38;5;34m64\u001b[0m)             │         \u001b[38;5;34m2,112\u001b[0m │\n",
       "├─────────────────────────────────┼────────────────────────┼───────────────┤\n",
       "│ dropout (\u001b[38;5;33mDropout\u001b[0m)               │ (\u001b[38;5;45mNone\u001b[0m, \u001b[38;5;34m64\u001b[0m)             │             \u001b[38;5;34m0\u001b[0m │\n",
       "├─────────────────────────────────┼────────────────────────┼───────────────┤\n",
       "│ dense_1 (\u001b[38;5;33mDense\u001b[0m)                 │ (\u001b[38;5;45mNone\u001b[0m, \u001b[38;5;34m10\u001b[0m)             │           \u001b[38;5;34m650\u001b[0m │\n",
       "└─────────────────────────────────┴────────────────────────┴───────────────┘\n"
      ]
     },
     "metadata": {},
     "output_type": "display_data"
    },
    {
     "data": {
      "text/html": [
       "<pre style=\"white-space:pre;overflow-x:auto;line-height:normal;font-family:Menlo,'DejaVu Sans Mono',consolas,'Courier New',monospace\"><span style=\"font-weight: bold\"> Total params: </span><span style=\"color: #00af00; text-decoration-color: #00af00\">4,409,069</span> (16.82 MB)\n",
       "</pre>\n"
      ],
      "text/plain": [
       "\u001b[1m Total params: \u001b[0m\u001b[38;5;34m4,409,069\u001b[0m (16.82 MB)\n"
      ]
     },
     "metadata": {},
     "output_type": "display_data"
    },
    {
     "data": {
      "text/html": [
       "<pre style=\"white-space:pre;overflow-x:auto;line-height:normal;font-family:Menlo,'DejaVu Sans Mono',consolas,'Courier New',monospace\"><span style=\"font-weight: bold\"> Trainable params: </span><span style=\"color: #00af00; text-decoration-color: #00af00\">4,367,046</span> (16.66 MB)\n",
       "</pre>\n"
      ],
      "text/plain": [
       "\u001b[1m Trainable params: \u001b[0m\u001b[38;5;34m4,367,046\u001b[0m (16.66 MB)\n"
      ]
     },
     "metadata": {},
     "output_type": "display_data"
    },
    {
     "data": {
      "text/html": [
       "<pre style=\"white-space:pre;overflow-x:auto;line-height:normal;font-family:Menlo,'DejaVu Sans Mono',consolas,'Courier New',monospace\"><span style=\"font-weight: bold\"> Non-trainable params: </span><span style=\"color: #00af00; text-decoration-color: #00af00\">42,023</span> (164.16 KB)\n",
       "</pre>\n"
      ],
      "text/plain": [
       "\u001b[1m Non-trainable params: \u001b[0m\u001b[38;5;34m42,023\u001b[0m (164.16 KB)\n"
      ]
     },
     "metadata": {},
     "output_type": "display_data"
    }
   ],
   "source": [
    "base_model = EfficientNetB0(include_top=False, weights='imagenet', input_shape=(224, 224, 3))\n",
    "base_model.trainable = True\n",
    "model = models.Sequential()\n",
    "\n",
    "model.add(base_model)\n",
    "model.add(layers.Reshape((49, 1280)))  # Ensure it matches your LSTM input requirement\n",
    "\n",
    "model.add(layers.LSTM(64, return_sequences=True))\n",
    "model.add(layers.LSTM(32))\n",
    "\n",
    "model.add(layers.Dense(64, activation='relu'))\n",
    "model.add(layers.Dropout(0.5))\n",
    "\n",
    "model.add(layers.Dense(10, activation='softmax'))\n",
    "\n",
    "model.compile(optimizer='adam', loss='categorical_crossentropy', metrics=['accuracy'])\n",
    "\n",
    "input_tensor = tf.keras.Input(shape=(224, 224, 3)) \n",
    "output_tensor = model(input_tensor)\n",
    "\n",
    "model.summary()"
   ]
  },
  {
   "cell_type": "code",
   "execution_count": 5,
   "metadata": {},
   "outputs": [
    {
     "name": "stderr",
     "output_type": "stream",
     "text": [
      "c:\\Users\\Soham\\AppData\\Local\\Programs\\Python\\Python310\\lib\\site-packages\\keras\\src\\saving\\saving_lib.py:576: UserWarning: Skipping variable loading for optimizer 'adam', because it has 2 variables whereas the saved optimizer has 444 variables. \n",
      "  saveable.load_own_variables(weights_store.get(inner_path))\n"
     ]
    }
   ],
   "source": [
    "model.load_weights(model_path)"
   ]
  },
  {
   "cell_type": "code",
   "execution_count": 6,
   "metadata": {},
   "outputs": [],
   "source": [
    "def load_and_preprocess_image(full_path, target_size):\n",
    "    img = load_img(full_path, target_size=target_size)\n",
    "    img_array = img_to_array(img)\n",
    "    # preprocessed_img = preprocess_input(img_array)\n",
    "    return img_array\n",
    "def get_data(excel_path=r'C:\\Media files\\Coding\\ML\\BIOML\\Capsule-Vision-2024-Challenge\\Dataset\\validation\\validation_data.xlsx'):\n",
    "    df = pd.read_excel(excel_path)\n",
    "    df = df.dropna(subset=['image_path'])\n",
    "    # if windows replace forward slash with back slash\n",
    "    if platform.system() == 'Windows':\n",
    "        df['image_path'] = df['image_path'].apply(lambda x: x.replace('/', os.sep))\n",
    "    else:\n",
    "        df['image_path'] = df['image_path'].apply(lambda x: x.replace('\\\\', os.sep))\n",
    "    class_columns = ['Angioectasia', 'Bleeding', 'Erosion', 'Erythema', 'Foreign Body', 'Lymphangiectasia', 'Normal', 'Polyp', 'Ulcer', 'Worms']\n",
    "    # X = np.array([load_and_preprocess_image(os.path.join(base_dir, path), image_size) for path in df['image_path'].values])\n",
    "    # y = df[class_columns].values\n",
    "    return df\n",
    "def load_test_data(test_dir, image_size=(224, 224)):\n",
    "    image_paths = [os.path.join(test_dir, fname) for fname in os.listdir(test_dir) if fname.lower().endswith(('jpg'))]\n",
    "    X_test = np.array([load_and_preprocess_image(path, image_size) for path in image_paths])\n",
    "    return X_test, image_paths"
   ]
  },
  {
   "cell_type": "code",
   "execution_count": 7,
   "metadata": {},
   "outputs": [],
   "source": [
    "img_height = 224\n",
    "img_width = 224\n",
    "\n",
    "batch_size = 32"
   ]
  },
  {
   "cell_type": "code",
   "execution_count": 8,
   "metadata": {},
   "outputs": [
    {
     "name": "stdout",
     "output_type": "stream",
     "text": [
      "Found 16132 files belonging to 10 classes.\n"
     ]
    }
   ],
   "source": [
    "val_ds = image_dataset_from_directory(\n",
    "    val_dir,\n",
    "    label_mode='categorical',  # Use 'categorical' if using one-hot encoded labels\n",
    "    batch_size=batch_size,\n",
    "    image_size=(img_height, img_width),\n",
    "    shuffle=False  # Do not shuffle validation data\n",
    ")"
   ]
  },
  {
   "cell_type": "code",
   "execution_count": 9,
   "metadata": {},
   "outputs": [],
   "source": [
    "y_true = np.concatenate([y for x, y in val_ds], axis=0)"
   ]
  },
  {
   "cell_type": "code",
   "execution_count": 10,
   "metadata": {},
   "outputs": [],
   "source": [
    "image_size=(224,224)\n",
    "val_df = get_data(excel_path=r'C:\\Media files\\Coding\\ML\\BIOML\\Capsule-Vision-2024-Challenge\\Dataset\\validation\\validation_data.xlsx')"
   ]
  },
  {
   "cell_type": "code",
   "execution_count": 11,
   "metadata": {},
   "outputs": [
    {
     "name": "stdout",
     "output_type": "stream",
     "text": [
      "\u001b[1m505/505\u001b[0m \u001b[32m━━━━━━━━━━━━━━━━━━━━\u001b[0m\u001b[37m\u001b[0m \u001b[1m414s\u001b[0m 815ms/step\n"
     ]
    }
   ],
   "source": [
    "y_pred_probs = model.predict(val_ds)\n",
    "y_pred = np.argmax(y_pred_probs, axis=1)"
   ]
  },
  {
   "cell_type": "code",
   "execution_count": 14,
   "metadata": {},
   "outputs": [
    {
     "name": "stdout",
     "output_type": "stream",
     "text": [
      "{\n",
      "    \"Angioectasia\": {\n",
      "        \"precision\": 0.0,\n",
      "        \"recall\": 0.0,\n",
      "        \"f1-score\": 0.0,\n",
      "        \"support\": 497.0\n",
      "    },\n",
      "    \"Bleeding\": {\n",
      "        \"precision\": 0.03736991485335856,\n",
      "        \"recall\": 0.2200557103064067,\n",
      "        \"f1-score\": 0.06389001213101497,\n",
      "        \"support\": 359.0\n",
      "    },\n",
      "    \"Erosion\": {\n",
      "        \"precision\": 0.25,\n",
      "        \"recall\": 0.0008658008658008658,\n",
      "        \"f1-score\": 0.001725625539257981,\n",
      "        \"support\": 1155.0\n",
      "    },\n",
      "    \"Erythema\": {\n",
      "        \"precision\": 0.03212290502793296,\n",
      "        \"recall\": 0.07744107744107744,\n",
      "        \"f1-score\": 0.045409674234945706,\n",
      "        \"support\": 297.0\n",
      "    },\n",
      "    \"Foreign Body\": {\n",
      "        \"precision\": 0.0196078431372549,\n",
      "        \"recall\": 0.38235294117647056,\n",
      "        \"f1-score\": 0.03730272596843616,\n",
      "        \"support\": 340.0\n",
      "    },\n",
      "    \"Lymphangiectasia\": {\n",
      "        \"precision\": 0.05555555555555555,\n",
      "        \"recall\": 0.0029154518950437317,\n",
      "        \"f1-score\": 0.00554016620498615,\n",
      "        \"support\": 343.0\n",
      "    },\n",
      "    \"Normal\": {\n",
      "        \"precision\": 1.0,\n",
      "        \"recall\": 8.13868316106454e-05,\n",
      "        \"f1-score\": 0.00016276041666666666,\n",
      "        \"support\": 12287.0\n",
      "    },\n",
      "    \"Polyp\": {\n",
      "        \"precision\": 0.06545644964217141,\n",
      "        \"recall\": 0.75,\n",
      "        \"f1-score\": 0.1204045593193129,\n",
      "        \"support\": 500.0\n",
      "    },\n",
      "    \"Ulcer\": {\n",
      "        \"precision\": 0.0,\n",
      "        \"recall\": 0.0,\n",
      "        \"f1-score\": 0.0,\n",
      "        \"support\": 286.0\n",
      "    },\n",
      "    \"Worms\": {\n",
      "        \"precision\": 0.005434782608695652,\n",
      "        \"recall\": 0.07352941176470588,\n",
      "        \"f1-score\": 0.010121457489878543,\n",
      "        \"support\": 68.0\n",
      "    },\n",
      "    \"accuracy\": 0.038122985370691795,\n",
      "    \"macro avg\": {\n",
      "        \"precision\": 0.1465547450824969,\n",
      "        \"recall\": 0.15072417802811158,\n",
      "        \"f1-score\": 0.02845569813044991,\n",
      "        \"support\": 16132.0\n",
      "    },\n",
      "    \"weighted avg\": {\n",
      "        \"precision\": 0.7846222610021294,\n",
      "        \"recall\": 0.038122985370691795,\n",
      "        \"f1-score\": 0.007183849798337856,\n",
      "        \"support\": 16132.0\n",
      "    },\n",
      "    \"auc_roc_scores\": {\n",
      "        \"Angioectasia\": 0.4926570616535799,\n",
      "        \"Bleeding\": 0.41506209175547154,\n",
      "        \"Erosion\": 0.6872589919261483,\n",
      "        \"Erythema\": 0.551306348401391,\n",
      "        \"Foreign Body\": 0.5342018855414505,\n",
      "        \"Lymphangiectasia\": 0.46389190023611304,\n",
      "        \"Normal\": 0.44911012654329385,\n",
      "        \"Polyp\": 0.7334106320368474,\n",
      "        \"Ulcer\": 0.6137963387111437,\n",
      "        \"Worms\": 0.5376911471760019,\n",
      "        \"mean_auc\": 0.5478386523981441\n",
      "    },\n",
      "    \"specificity_scores\": {\n",
      "        \"Angioectasia\": 1.0,\n",
      "        \"Bleeding\": 0.8944398655931022,\n",
      "        \"Erosion\": 0.9999332309541297,\n",
      "        \"Erythema\": 0.9951373539627407,\n",
      "        \"Foreign Body\": 0.7470238095238095,\n",
      "        \"Lymphangiectasia\": 0.999809994299829,\n",
      "        \"Normal\": 1.0,\n",
      "        \"Polyp\": 0.7572927328556807,\n",
      "        \"Ulcer\": 1.0,\n",
      "        \"Worms\": 0.9542455179282868,\n",
      "        \"mean_specificity\": 0.934788250511758\n",
      "    },\n",
      "    \"average_precision_scores\": {\n",
      "        \"Angioectasia\": 0.028757817237410284,\n",
      "        \"Bleeding\": 0.03330814667189386,\n",
      "        \"Erosion\": 0.131696316221806,\n",
      "        \"Erythema\": 0.023370305863699578,\n",
      "        \"Foreign Body\": 0.09568752421256067,\n",
      "        \"Lymphangiectasia\": 0.01964471040252305,\n",
      "        \"Normal\": 0.7214628971218549,\n",
      "        \"Polyp\": 0.06479060982495946,\n",
      "        \"Ulcer\": 0.040548223791640435,\n",
      "        \"Worms\": 0.004522523762567005,\n",
      "        \"mean_average_precision\": 0.1163789075110915\n",
      "    },\n",
      "    \"sensitivity_scores\": {\n",
      "        \"Angioectasia\": 0.0,\n",
      "        \"Bleeding\": 0.1894150417827298,\n",
      "        \"Erosion\": 0.0,\n",
      "        \"Erythema\": 0.006734006734006734,\n",
      "        \"Foreign Body\": 0.3029411764705882,\n",
      "        \"Lymphangiectasia\": 0.0,\n",
      "        \"Normal\": 8.13868316106454e-05,\n",
      "        \"Polyp\": 0.638,\n",
      "        \"Ulcer\": 0.0,\n",
      "        \"Worms\": 0.058823529411764705,\n",
      "        \"mean_sensitivity\": 0.11959951412307002\n",
      "    },\n",
      "    \"f1_scores\": {\n",
      "        \"Angioectasia\": 0.0,\n",
      "        \"Bleeding\": 0.0650095602294455,\n",
      "        \"Erosion\": 0.0,\n",
      "        \"Erythema\": 0.010638297872340424,\n",
      "        \"Foreign Body\": 0.046417305092383954,\n",
      "        \"Lymphangiectasia\": 0.0,\n",
      "        \"Normal\": 0.00016276041666666666,\n",
      "        \"Polyp\": 0.13830479080858443,\n",
      "        \"Ulcer\": 0.0,\n",
      "        \"Worms\": 0.009913258983890954,\n",
      "        \"mean_f1_score\": 0.02704459734033119\n",
      "    },\n",
      "    \"mean_auc\": 0.5478386523981441,\n",
      "    \"mean_specificity\": 0.934788250511758,\n",
      "    \"mean_average_precision\": 0.1163789075110915,\n",
      "    \"mean_sensitivity\": 0.11959951412307002,\n",
      "    \"mean_f1_score\": 0.02704459734033119\n",
      "}\n"
     ]
    }
   ],
   "source": [
    "df=generate_metrics_report(y_true,y_pred_probs)\n",
    "print(df)\n",
    "output_val_predictions=\"validation_excel.xlsx\"\n",
    "save_predictions_to_excel(val_df['image_path'].values, y_pred_probs, output_val_predictions)"
   ]
  },
  {
   "cell_type": "code",
   "execution_count": 14,
   "metadata": {},
   "outputs": [
    {
     "data": {
      "text/plain": [
       "4385"
      ]
     },
     "execution_count": 14,
     "metadata": {},
     "output_type": "execute_result"
    }
   ],
   "source": [
    "# For Test data - uncomment when you have test data\n",
    "test_path = base_dir+'Dataset/Testing set/Images'\n",
    "image_paths = [os.path.join(test_path, fname) for fname in os.listdir(test_path) if fname.lower().endswith(('jpg'))]\n",
    "len(image_paths)"
   ]
  },
  {
   "cell_type": "code",
   "execution_count": 16,
   "metadata": {},
   "outputs": [
    {
     "name": "stdout",
     "output_type": "stream",
     "text": [
      "Found 4385 files.\n"
     ]
    }
   ],
   "source": [
    "test_ds = image_dataset_from_directory(\n",
    "    test_path,\n",
    "    batch_size=batch_size,\n",
    "    label_mode=None,\n",
    "    image_size=(img_height, img_width),\n",
    "    shuffle=False\n",
    ")"
   ]
  },
  {
   "cell_type": "code",
   "execution_count": 17,
   "metadata": {},
   "outputs": [
    {
     "name": "stdout",
     "output_type": "stream",
     "text": [
      "\u001b[1m138/138\u001b[0m \u001b[32m━━━━━━━━━━━━━━━━━━━━\u001b[0m\u001b[37m\u001b[0m \u001b[1m118s\u001b[0m 837ms/step\n"
     ]
    }
   ],
   "source": [
    "#X_test, image_paths = load_test_data(test_path,image_size=image_size)\n",
    "y_test_pred = model.predict(test_ds)\n",
    "\n",
    "output_test_predictions=\"test_excel.xlsx\"\n",
    "save_predictions_to_excel(image_paths, y_test_pred, output_test_predictions)"
   ]
  }
 ],
 "metadata": {
  "kernelspec": {
   "display_name": "Python 3",
   "language": "python",
   "name": "python3"
  },
  "language_info": {
   "codemirror_mode": {
    "name": "ipython",
    "version": 3
   },
   "file_extension": ".py",
   "mimetype": "text/x-python",
   "name": "python",
   "nbconvert_exporter": "python",
   "pygments_lexer": "ipython3",
   "version": "3.10.4"
  }
 },
 "nbformat": 4,
 "nbformat_minor": 2
}
